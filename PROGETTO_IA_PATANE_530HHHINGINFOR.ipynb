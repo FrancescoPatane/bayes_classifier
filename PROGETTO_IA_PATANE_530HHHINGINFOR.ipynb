{
  "nbformat": 4,
  "nbformat_minor": 0,
  "metadata": {
    "colab": {
      "provenance": []
    },
    "kernelspec": {
      "name": "python3",
      "display_name": "Python 3"
    },
    "language_info": {
      "name": "python"
    }
  },
  "cells": [
    {
      "cell_type": "markdown",
      "source": [
        "CREAZIONE DI UN CLASSIFICATORE PER DOCUMENTI TESTUALI"
      ],
      "metadata": {
        "id": "hnI53m-kwGOy"
      }
    },
    {
      "cell_type": "markdown",
      "source": [
        "SET UP LIBRERIE"
      ],
      "metadata": {
        "id": "OXHdftqRwPYK"
      }
    },
    {
      "cell_type": "code",
      "execution_count": 1,
      "metadata": {
        "id": "lDIZ6iKgv-xD"
      },
      "outputs": [],
      "source": [
        "from pathlib import Path\n",
        "import nltk\n",
        "from nltk.corpus import stopwords\n",
        "from nltk.tokenize import word_tokenize\n",
        "import string\n",
        "import pandas as pd\n",
        "from sklearn.feature_extraction.text import CountVectorizer\n",
        "from sklearn.model_selection import train_test_split\n",
        "from sklearn.feature_extraction.text import CountVectorizer\n",
        "from sklearn.feature_extraction.text import TfidfTransformer\n",
        "from sklearn.naive_bayes import MultinomialNB\n",
        "from sklearn.metrics import (\n",
        "    accuracy_score,\n",
        "    confusion_matrix,\n",
        "    ConfusionMatrixDisplay,\n",
        "    f1_score,\n",
        "    classification_report,\n",
        ")"
      ]
    },
    {
      "cell_type": "markdown",
      "source": [
        "SET UP DATASET"
      ],
      "metadata": {
        "id": "UuhyibE5wEra"
      }
    },
    {
      "cell_type": "markdown",
      "source": [
        "Dopo aver caricato il dataset nel notebook in formato .zip, lo estraiamo dall'archivio. Si otterrà un'alberatura di cartelle come segue:\n",
        "\n",
        "DATASET\n",
        "> corpus\n",
        ">>business\n",
        "\n",
        ">>entertainment\n",
        "\n",
        ">>food\n",
        "\n",
        ">>graphics\n",
        "\n",
        ">>historical\n",
        "\n",
        ">>medical\n",
        "\n",
        ">>politics\n",
        "\n",
        ">>space\n",
        "\n",
        ">>sport\n",
        "\n",
        ">>technologie\n"
      ],
      "metadata": {
        "id": "3U3I6OEuykwt"
      }
    },
    {
      "cell_type": "code",
      "source": [
        "!unzip /content/DATASET.zip"
      ],
      "metadata": {
        "id": "A1K54I7PwehG"
      },
      "execution_count": null,
      "outputs": []
    },
    {
      "cell_type": "markdown",
      "source": [
        "Creiamo una enumerazione per rappresentare le varie categorie/label."
      ],
      "metadata": {
        "id": "67wrA6EW0SF0"
      }
    },
    {
      "cell_type": "code",
      "source": [
        "from enum import Enum\n",
        "\n",
        "class Categories(Enum):\n",
        "  business=0\n",
        "  entertainment=1\n",
        "  food=2\n",
        "  graphics=3\n",
        "  historical=4\n",
        "  medical=5\n",
        "  politics=6\n",
        "  space=7\n",
        "  sport=8\n",
        "  technologie=9"
      ],
      "metadata": {
        "id": "MeKHmMgnKOhV"
      },
      "execution_count": 3,
      "outputs": []
    },
    {
      "cell_type": "markdown",
      "source": [
        "TEST AND TRAIN SETS"
      ],
      "metadata": {
        "id": "WK0W_QK8Bati"
      }
    },
    {
      "cell_type": "markdown",
      "source": [
        "Creiamo gli insiemi di addestramento e test a partire dai documenti a disposizione.\n",
        "\n",
        "Per ogni categoria, i documenti con numerazione *3, *5, *7 verranno assegnati all'insieme di training, gli altri a quello di test.\n",
        "\n",
        "In questo modo, useremo il 30% dei documenti per l'addestramento. Metteremo alla prova il classificatore sul restante 70%."
      ],
      "metadata": {
        "id": "zCAlUXh10auS"
      }
    },
    {
      "cell_type": "code",
      "source": [
        "train_corpus = []\n",
        "test_corpus = []\n",
        "\n",
        "for child in Path('/content/DATASET/corpus').glob('**/*.txt'):\n",
        "    if child.is_file():\n",
        "      splitted_filename = child.name.split(\"_\")\n",
        "      doc_name = splitted_filename[0]\n",
        "      doc_number = splitted_filename[1].split(\".\")[0]\n",
        "      if doc_number[len(doc_number)-1] == \"3\" or doc_number[len(doc_number)-1] == \"5\" or doc_number[len(doc_number)-1] == \"7\":\n",
        "        train_corpus.append((child.name, child.read_text().replace(\"\\n\", \" \"), Categories[child.name.split(\"_\")[0]].value))\n",
        "      else:\n",
        "        test_corpus.append((child.name, child.read_text().replace(\"\\n\", \" \"), Categories[child.name.split(\"_\")[0]].value))"
      ],
      "metadata": {
        "id": "FMEFOMh6w1cE"
      },
      "execution_count": 4,
      "outputs": []
    },
    {
      "cell_type": "code",
      "source": [
        "print(\"Dimensione insieme di training: \", len(train_corpus))\n",
        "print(\"Dimensione insieme di test: \", len(test_corpus))"
      ],
      "metadata": {
        "colab": {
          "base_uri": "https://localhost:8080/"
        },
        "id": "n-MrJuMcBc7T",
        "outputId": "1a6e104d-2ffd-4f58-c11f-d795e516c8ea"
      },
      "execution_count": 5,
      "outputs": [
        {
          "output_type": "stream",
          "name": "stdout",
          "text": [
            "Dimensione insieme di training:  300\n",
            "Dimensione insieme di test:  700\n"
          ]
        }
      ]
    },
    {
      "cell_type": "markdown",
      "source": [
        "SET UP DATAFRAMES"
      ],
      "metadata": {
        "id": "729o_Gy7CsnK"
      }
    },
    {
      "cell_type": "markdown",
      "source": [
        "Per comodità, trasformiamo i vettori di documenti in dataset, più facili da manipolare."
      ],
      "metadata": {
        "id": "ZsIw4s4A1B_Q"
      }
    },
    {
      "cell_type": "code",
      "source": [
        "df_train = pd.DataFrame(train_corpus, columns=['document', 'text', 'category'])\n",
        "df_test = pd.DataFrame(test_corpus, columns=['document', 'text', 'category'])"
      ],
      "metadata": {
        "id": "6DlTwBJdCvKV"
      },
      "execution_count": 6,
      "outputs": []
    },
    {
      "cell_type": "code",
      "source": [
        "df_train"
      ],
      "metadata": {
        "id": "J-rEQvELC3Gq",
        "colab": {
          "base_uri": "https://localhost:8080/",
          "height": 423
        },
        "outputId": "17071918-8770-441c-d495-f2d00bf33188"
      },
      "execution_count": 7,
      "outputs": [
        {
          "output_type": "execute_result",
          "data": {
            "text/plain": [
              "            document                                               text  \\\n",
              "0    graphics_47.txt  In article <o4fzrApDBh107h@eosvcr.wimsey.bc.ca...   \n",
              "1     graphics_3.txt  Create Incredible Branding Initiatives Without...   \n",
              "2    graphics_83.txt  7 Best Free Tools Allows You to Create Profess...   \n",
              "3    graphics_67.txt  In article <734553308snx@rjck.UUCP> rob@rjck.U...   \n",
              "4    graphics_97.txt  Sorry I missed you Raymond, I was just out in ...   \n",
              "..               ...                                                ...   \n",
              "295     space_15.txt  > there is no such thing as a stable lunar orb...   \n",
              "296     space_85.txt  >Date: Tue, 6 Apr 1993 15:40:47 GMT >I need as...   \n",
              "297     space_37.txt  How 'bout some more info on that alleged super...   \n",
              "298     space_93.txt  In article <VNci2B7w165w@inqmind.bison.mb.ca>,...   \n",
              "299     space_97.txt  I am sure  Mary or Henry can describe this mor...   \n",
              "\n",
              "     category  \n",
              "0           3  \n",
              "1           3  \n",
              "2           3  \n",
              "3           3  \n",
              "4           3  \n",
              "..        ...  \n",
              "295         7  \n",
              "296         7  \n",
              "297         7  \n",
              "298         7  \n",
              "299         7  \n",
              "\n",
              "[300 rows x 3 columns]"
            ],
            "text/html": [
              "\n",
              "  <div id=\"df-290c3d77-41c1-42c6-8bb1-ad9d0f0a6f17\" class=\"colab-df-container\">\n",
              "    <div>\n",
              "<style scoped>\n",
              "    .dataframe tbody tr th:only-of-type {\n",
              "        vertical-align: middle;\n",
              "    }\n",
              "\n",
              "    .dataframe tbody tr th {\n",
              "        vertical-align: top;\n",
              "    }\n",
              "\n",
              "    .dataframe thead th {\n",
              "        text-align: right;\n",
              "    }\n",
              "</style>\n",
              "<table border=\"1\" class=\"dataframe\">\n",
              "  <thead>\n",
              "    <tr style=\"text-align: right;\">\n",
              "      <th></th>\n",
              "      <th>document</th>\n",
              "      <th>text</th>\n",
              "      <th>category</th>\n",
              "    </tr>\n",
              "  </thead>\n",
              "  <tbody>\n",
              "    <tr>\n",
              "      <th>0</th>\n",
              "      <td>graphics_47.txt</td>\n",
              "      <td>In article &lt;o4fzrApDBh107h@eosvcr.wimsey.bc.ca...</td>\n",
              "      <td>3</td>\n",
              "    </tr>\n",
              "    <tr>\n",
              "      <th>1</th>\n",
              "      <td>graphics_3.txt</td>\n",
              "      <td>Create Incredible Branding Initiatives Without...</td>\n",
              "      <td>3</td>\n",
              "    </tr>\n",
              "    <tr>\n",
              "      <th>2</th>\n",
              "      <td>graphics_83.txt</td>\n",
              "      <td>7 Best Free Tools Allows You to Create Profess...</td>\n",
              "      <td>3</td>\n",
              "    </tr>\n",
              "    <tr>\n",
              "      <th>3</th>\n",
              "      <td>graphics_67.txt</td>\n",
              "      <td>In article &lt;734553308snx@rjck.UUCP&gt; rob@rjck.U...</td>\n",
              "      <td>3</td>\n",
              "    </tr>\n",
              "    <tr>\n",
              "      <th>4</th>\n",
              "      <td>graphics_97.txt</td>\n",
              "      <td>Sorry I missed you Raymond, I was just out in ...</td>\n",
              "      <td>3</td>\n",
              "    </tr>\n",
              "    <tr>\n",
              "      <th>...</th>\n",
              "      <td>...</td>\n",
              "      <td>...</td>\n",
              "      <td>...</td>\n",
              "    </tr>\n",
              "    <tr>\n",
              "      <th>295</th>\n",
              "      <td>space_15.txt</td>\n",
              "      <td>&gt; there is no such thing as a stable lunar orb...</td>\n",
              "      <td>7</td>\n",
              "    </tr>\n",
              "    <tr>\n",
              "      <th>296</th>\n",
              "      <td>space_85.txt</td>\n",
              "      <td>&gt;Date: Tue, 6 Apr 1993 15:40:47 GMT &gt;I need as...</td>\n",
              "      <td>7</td>\n",
              "    </tr>\n",
              "    <tr>\n",
              "      <th>297</th>\n",
              "      <td>space_37.txt</td>\n",
              "      <td>How 'bout some more info on that alleged super...</td>\n",
              "      <td>7</td>\n",
              "    </tr>\n",
              "    <tr>\n",
              "      <th>298</th>\n",
              "      <td>space_93.txt</td>\n",
              "      <td>In article &lt;VNci2B7w165w@inqmind.bison.mb.ca&gt;,...</td>\n",
              "      <td>7</td>\n",
              "    </tr>\n",
              "    <tr>\n",
              "      <th>299</th>\n",
              "      <td>space_97.txt</td>\n",
              "      <td>I am sure  Mary or Henry can describe this mor...</td>\n",
              "      <td>7</td>\n",
              "    </tr>\n",
              "  </tbody>\n",
              "</table>\n",
              "<p>300 rows × 3 columns</p>\n",
              "</div>\n",
              "    <div class=\"colab-df-buttons\">\n",
              "\n",
              "  <div class=\"colab-df-container\">\n",
              "    <button class=\"colab-df-convert\" onclick=\"convertToInteractive('df-290c3d77-41c1-42c6-8bb1-ad9d0f0a6f17')\"\n",
              "            title=\"Convert this dataframe to an interactive table.\"\n",
              "            style=\"display:none;\">\n",
              "\n",
              "  <svg xmlns=\"http://www.w3.org/2000/svg\" height=\"24px\" viewBox=\"0 -960 960 960\">\n",
              "    <path d=\"M120-120v-720h720v720H120Zm60-500h600v-160H180v160Zm220 220h160v-160H400v160Zm0 220h160v-160H400v160ZM180-400h160v-160H180v160Zm440 0h160v-160H620v160ZM180-180h160v-160H180v160Zm440 0h160v-160H620v160Z\"/>\n",
              "  </svg>\n",
              "    </button>\n",
              "\n",
              "  <style>\n",
              "    .colab-df-container {\n",
              "      display:flex;\n",
              "      gap: 12px;\n",
              "    }\n",
              "\n",
              "    .colab-df-convert {\n",
              "      background-color: #E8F0FE;\n",
              "      border: none;\n",
              "      border-radius: 50%;\n",
              "      cursor: pointer;\n",
              "      display: none;\n",
              "      fill: #1967D2;\n",
              "      height: 32px;\n",
              "      padding: 0 0 0 0;\n",
              "      width: 32px;\n",
              "    }\n",
              "\n",
              "    .colab-df-convert:hover {\n",
              "      background-color: #E2EBFA;\n",
              "      box-shadow: 0px 1px 2px rgba(60, 64, 67, 0.3), 0px 1px 3px 1px rgba(60, 64, 67, 0.15);\n",
              "      fill: #174EA6;\n",
              "    }\n",
              "\n",
              "    .colab-df-buttons div {\n",
              "      margin-bottom: 4px;\n",
              "    }\n",
              "\n",
              "    [theme=dark] .colab-df-convert {\n",
              "      background-color: #3B4455;\n",
              "      fill: #D2E3FC;\n",
              "    }\n",
              "\n",
              "    [theme=dark] .colab-df-convert:hover {\n",
              "      background-color: #434B5C;\n",
              "      box-shadow: 0px 1px 3px 1px rgba(0, 0, 0, 0.15);\n",
              "      filter: drop-shadow(0px 1px 2px rgba(0, 0, 0, 0.3));\n",
              "      fill: #FFFFFF;\n",
              "    }\n",
              "  </style>\n",
              "\n",
              "    <script>\n",
              "      const buttonEl =\n",
              "        document.querySelector('#df-290c3d77-41c1-42c6-8bb1-ad9d0f0a6f17 button.colab-df-convert');\n",
              "      buttonEl.style.display =\n",
              "        google.colab.kernel.accessAllowed ? 'block' : 'none';\n",
              "\n",
              "      async function convertToInteractive(key) {\n",
              "        const element = document.querySelector('#df-290c3d77-41c1-42c6-8bb1-ad9d0f0a6f17');\n",
              "        const dataTable =\n",
              "          await google.colab.kernel.invokeFunction('convertToInteractive',\n",
              "                                                    [key], {});\n",
              "        if (!dataTable) return;\n",
              "\n",
              "        const docLinkHtml = 'Like what you see? Visit the ' +\n",
              "          '<a target=\"_blank\" href=https://colab.research.google.com/notebooks/data_table.ipynb>data table notebook</a>'\n",
              "          + ' to learn more about interactive tables.';\n",
              "        element.innerHTML = '';\n",
              "        dataTable['output_type'] = 'display_data';\n",
              "        await google.colab.output.renderOutput(dataTable, element);\n",
              "        const docLink = document.createElement('div');\n",
              "        docLink.innerHTML = docLinkHtml;\n",
              "        element.appendChild(docLink);\n",
              "      }\n",
              "    </script>\n",
              "  </div>\n",
              "\n",
              "\n",
              "<div id=\"df-e69190a7-fca4-4b0d-8b1b-6cdc5021b36c\">\n",
              "  <button class=\"colab-df-quickchart\" onclick=\"quickchart('df-e69190a7-fca4-4b0d-8b1b-6cdc5021b36c')\"\n",
              "            title=\"Suggest charts.\"\n",
              "            style=\"display:none;\">\n",
              "\n",
              "<svg xmlns=\"http://www.w3.org/2000/svg\" height=\"24px\"viewBox=\"0 0 24 24\"\n",
              "     width=\"24px\">\n",
              "    <g>\n",
              "        <path d=\"M19 3H5c-1.1 0-2 .9-2 2v14c0 1.1.9 2 2 2h14c1.1 0 2-.9 2-2V5c0-1.1-.9-2-2-2zM9 17H7v-7h2v7zm4 0h-2V7h2v10zm4 0h-2v-4h2v4z\"/>\n",
              "    </g>\n",
              "</svg>\n",
              "  </button>\n",
              "\n",
              "<style>\n",
              "  .colab-df-quickchart {\n",
              "      --bg-color: #E8F0FE;\n",
              "      --fill-color: #1967D2;\n",
              "      --hover-bg-color: #E2EBFA;\n",
              "      --hover-fill-color: #174EA6;\n",
              "      --disabled-fill-color: #AAA;\n",
              "      --disabled-bg-color: #DDD;\n",
              "  }\n",
              "\n",
              "  [theme=dark] .colab-df-quickchart {\n",
              "      --bg-color: #3B4455;\n",
              "      --fill-color: #D2E3FC;\n",
              "      --hover-bg-color: #434B5C;\n",
              "      --hover-fill-color: #FFFFFF;\n",
              "      --disabled-bg-color: #3B4455;\n",
              "      --disabled-fill-color: #666;\n",
              "  }\n",
              "\n",
              "  .colab-df-quickchart {\n",
              "    background-color: var(--bg-color);\n",
              "    border: none;\n",
              "    border-radius: 50%;\n",
              "    cursor: pointer;\n",
              "    display: none;\n",
              "    fill: var(--fill-color);\n",
              "    height: 32px;\n",
              "    padding: 0;\n",
              "    width: 32px;\n",
              "  }\n",
              "\n",
              "  .colab-df-quickchart:hover {\n",
              "    background-color: var(--hover-bg-color);\n",
              "    box-shadow: 0 1px 2px rgba(60, 64, 67, 0.3), 0 1px 3px 1px rgba(60, 64, 67, 0.15);\n",
              "    fill: var(--button-hover-fill-color);\n",
              "  }\n",
              "\n",
              "  .colab-df-quickchart-complete:disabled,\n",
              "  .colab-df-quickchart-complete:disabled:hover {\n",
              "    background-color: var(--disabled-bg-color);\n",
              "    fill: var(--disabled-fill-color);\n",
              "    box-shadow: none;\n",
              "  }\n",
              "\n",
              "  .colab-df-spinner {\n",
              "    border: 2px solid var(--fill-color);\n",
              "    border-color: transparent;\n",
              "    border-bottom-color: var(--fill-color);\n",
              "    animation:\n",
              "      spin 1s steps(1) infinite;\n",
              "  }\n",
              "\n",
              "  @keyframes spin {\n",
              "    0% {\n",
              "      border-color: transparent;\n",
              "      border-bottom-color: var(--fill-color);\n",
              "      border-left-color: var(--fill-color);\n",
              "    }\n",
              "    20% {\n",
              "      border-color: transparent;\n",
              "      border-left-color: var(--fill-color);\n",
              "      border-top-color: var(--fill-color);\n",
              "    }\n",
              "    30% {\n",
              "      border-color: transparent;\n",
              "      border-left-color: var(--fill-color);\n",
              "      border-top-color: var(--fill-color);\n",
              "      border-right-color: var(--fill-color);\n",
              "    }\n",
              "    40% {\n",
              "      border-color: transparent;\n",
              "      border-right-color: var(--fill-color);\n",
              "      border-top-color: var(--fill-color);\n",
              "    }\n",
              "    60% {\n",
              "      border-color: transparent;\n",
              "      border-right-color: var(--fill-color);\n",
              "    }\n",
              "    80% {\n",
              "      border-color: transparent;\n",
              "      border-right-color: var(--fill-color);\n",
              "      border-bottom-color: var(--fill-color);\n",
              "    }\n",
              "    90% {\n",
              "      border-color: transparent;\n",
              "      border-bottom-color: var(--fill-color);\n",
              "    }\n",
              "  }\n",
              "</style>\n",
              "\n",
              "  <script>\n",
              "    async function quickchart(key) {\n",
              "      const quickchartButtonEl =\n",
              "        document.querySelector('#' + key + ' button');\n",
              "      quickchartButtonEl.disabled = true;  // To prevent multiple clicks.\n",
              "      quickchartButtonEl.classList.add('colab-df-spinner');\n",
              "      try {\n",
              "        const charts = await google.colab.kernel.invokeFunction(\n",
              "            'suggestCharts', [key], {});\n",
              "      } catch (error) {\n",
              "        console.error('Error during call to suggestCharts:', error);\n",
              "      }\n",
              "      quickchartButtonEl.classList.remove('colab-df-spinner');\n",
              "      quickchartButtonEl.classList.add('colab-df-quickchart-complete');\n",
              "    }\n",
              "    (() => {\n",
              "      let quickchartButtonEl =\n",
              "        document.querySelector('#df-e69190a7-fca4-4b0d-8b1b-6cdc5021b36c button');\n",
              "      quickchartButtonEl.style.display =\n",
              "        google.colab.kernel.accessAllowed ? 'block' : 'none';\n",
              "    })();\n",
              "  </script>\n",
              "</div>\n",
              "    </div>\n",
              "  </div>\n"
            ]
          },
          "metadata": {},
          "execution_count": 7
        }
      ]
    },
    {
      "cell_type": "code",
      "source": [
        "df_test"
      ],
      "metadata": {
        "id": "Po07SYbiC7Mp",
        "colab": {
          "base_uri": "https://localhost:8080/",
          "height": 423
        },
        "outputId": "760b2220-ebca-4bed-cdce-b10e72002db3"
      },
      "execution_count": 8,
      "outputs": [
        {
          "output_type": "execute_result",
          "data": {
            "text/plain": [
              "            document                                               text  \\\n",
              "0    graphics_61.txt  How does the 16 bit color of HDTV work ? It ca...   \n",
              "1    graphics_92.txt  Dominic Lai (cs_cylai@cs.ust.hk) wrote: : Simo...   \n",
              "2    graphics_56.txt  In article <1993Apr10.160929.696@galki.toppoin...   \n",
              "3     graphics_4.txt  Hello,      I am looking to add voice input ca...   \n",
              "4    graphics_49.txt  No design skills needed Usually, some people w...   \n",
              "..               ...                                                ...   \n",
              "695     space_50.txt  nsmca@aurora.alaska.edu writes: [Excellent dis...   \n",
              "696     space_99.txt  NASA Headquarters distributed the following pr...   \n",
              "697      space_8.txt  nanderso@Endor.sim.es.com (Norman Anderson) wr...   \n",
              "698     space_44.txt  In article <C4zHKw.3Dn@zoo.toronto.edu>, henry...   \n",
              "699     space_30.txt  Archive-name: space/schedule Last-modified: $D...   \n",
              "\n",
              "     category  \n",
              "0           3  \n",
              "1           3  \n",
              "2           3  \n",
              "3           3  \n",
              "4           3  \n",
              "..        ...  \n",
              "695         7  \n",
              "696         7  \n",
              "697         7  \n",
              "698         7  \n",
              "699         7  \n",
              "\n",
              "[700 rows x 3 columns]"
            ],
            "text/html": [
              "\n",
              "  <div id=\"df-f412ce54-c935-4ba6-b3cf-91ef5bff98a2\" class=\"colab-df-container\">\n",
              "    <div>\n",
              "<style scoped>\n",
              "    .dataframe tbody tr th:only-of-type {\n",
              "        vertical-align: middle;\n",
              "    }\n",
              "\n",
              "    .dataframe tbody tr th {\n",
              "        vertical-align: top;\n",
              "    }\n",
              "\n",
              "    .dataframe thead th {\n",
              "        text-align: right;\n",
              "    }\n",
              "</style>\n",
              "<table border=\"1\" class=\"dataframe\">\n",
              "  <thead>\n",
              "    <tr style=\"text-align: right;\">\n",
              "      <th></th>\n",
              "      <th>document</th>\n",
              "      <th>text</th>\n",
              "      <th>category</th>\n",
              "    </tr>\n",
              "  </thead>\n",
              "  <tbody>\n",
              "    <tr>\n",
              "      <th>0</th>\n",
              "      <td>graphics_61.txt</td>\n",
              "      <td>How does the 16 bit color of HDTV work ? It ca...</td>\n",
              "      <td>3</td>\n",
              "    </tr>\n",
              "    <tr>\n",
              "      <th>1</th>\n",
              "      <td>graphics_92.txt</td>\n",
              "      <td>Dominic Lai (cs_cylai@cs.ust.hk) wrote: : Simo...</td>\n",
              "      <td>3</td>\n",
              "    </tr>\n",
              "    <tr>\n",
              "      <th>2</th>\n",
              "      <td>graphics_56.txt</td>\n",
              "      <td>In article &lt;1993Apr10.160929.696@galki.toppoin...</td>\n",
              "      <td>3</td>\n",
              "    </tr>\n",
              "    <tr>\n",
              "      <th>3</th>\n",
              "      <td>graphics_4.txt</td>\n",
              "      <td>Hello,      I am looking to add voice input ca...</td>\n",
              "      <td>3</td>\n",
              "    </tr>\n",
              "    <tr>\n",
              "      <th>4</th>\n",
              "      <td>graphics_49.txt</td>\n",
              "      <td>No design skills needed Usually, some people w...</td>\n",
              "      <td>3</td>\n",
              "    </tr>\n",
              "    <tr>\n",
              "      <th>...</th>\n",
              "      <td>...</td>\n",
              "      <td>...</td>\n",
              "      <td>...</td>\n",
              "    </tr>\n",
              "    <tr>\n",
              "      <th>695</th>\n",
              "      <td>space_50.txt</td>\n",
              "      <td>nsmca@aurora.alaska.edu writes: [Excellent dis...</td>\n",
              "      <td>7</td>\n",
              "    </tr>\n",
              "    <tr>\n",
              "      <th>696</th>\n",
              "      <td>space_99.txt</td>\n",
              "      <td>NASA Headquarters distributed the following pr...</td>\n",
              "      <td>7</td>\n",
              "    </tr>\n",
              "    <tr>\n",
              "      <th>697</th>\n",
              "      <td>space_8.txt</td>\n",
              "      <td>nanderso@Endor.sim.es.com (Norman Anderson) wr...</td>\n",
              "      <td>7</td>\n",
              "    </tr>\n",
              "    <tr>\n",
              "      <th>698</th>\n",
              "      <td>space_44.txt</td>\n",
              "      <td>In article &lt;C4zHKw.3Dn@zoo.toronto.edu&gt;, henry...</td>\n",
              "      <td>7</td>\n",
              "    </tr>\n",
              "    <tr>\n",
              "      <th>699</th>\n",
              "      <td>space_30.txt</td>\n",
              "      <td>Archive-name: space/schedule Last-modified: $D...</td>\n",
              "      <td>7</td>\n",
              "    </tr>\n",
              "  </tbody>\n",
              "</table>\n",
              "<p>700 rows × 3 columns</p>\n",
              "</div>\n",
              "    <div class=\"colab-df-buttons\">\n",
              "\n",
              "  <div class=\"colab-df-container\">\n",
              "    <button class=\"colab-df-convert\" onclick=\"convertToInteractive('df-f412ce54-c935-4ba6-b3cf-91ef5bff98a2')\"\n",
              "            title=\"Convert this dataframe to an interactive table.\"\n",
              "            style=\"display:none;\">\n",
              "\n",
              "  <svg xmlns=\"http://www.w3.org/2000/svg\" height=\"24px\" viewBox=\"0 -960 960 960\">\n",
              "    <path d=\"M120-120v-720h720v720H120Zm60-500h600v-160H180v160Zm220 220h160v-160H400v160Zm0 220h160v-160H400v160ZM180-400h160v-160H180v160Zm440 0h160v-160H620v160ZM180-180h160v-160H180v160Zm440 0h160v-160H620v160Z\"/>\n",
              "  </svg>\n",
              "    </button>\n",
              "\n",
              "  <style>\n",
              "    .colab-df-container {\n",
              "      display:flex;\n",
              "      gap: 12px;\n",
              "    }\n",
              "\n",
              "    .colab-df-convert {\n",
              "      background-color: #E8F0FE;\n",
              "      border: none;\n",
              "      border-radius: 50%;\n",
              "      cursor: pointer;\n",
              "      display: none;\n",
              "      fill: #1967D2;\n",
              "      height: 32px;\n",
              "      padding: 0 0 0 0;\n",
              "      width: 32px;\n",
              "    }\n",
              "\n",
              "    .colab-df-convert:hover {\n",
              "      background-color: #E2EBFA;\n",
              "      box-shadow: 0px 1px 2px rgba(60, 64, 67, 0.3), 0px 1px 3px 1px rgba(60, 64, 67, 0.15);\n",
              "      fill: #174EA6;\n",
              "    }\n",
              "\n",
              "    .colab-df-buttons div {\n",
              "      margin-bottom: 4px;\n",
              "    }\n",
              "\n",
              "    [theme=dark] .colab-df-convert {\n",
              "      background-color: #3B4455;\n",
              "      fill: #D2E3FC;\n",
              "    }\n",
              "\n",
              "    [theme=dark] .colab-df-convert:hover {\n",
              "      background-color: #434B5C;\n",
              "      box-shadow: 0px 1px 3px 1px rgba(0, 0, 0, 0.15);\n",
              "      filter: drop-shadow(0px 1px 2px rgba(0, 0, 0, 0.3));\n",
              "      fill: #FFFFFF;\n",
              "    }\n",
              "  </style>\n",
              "\n",
              "    <script>\n",
              "      const buttonEl =\n",
              "        document.querySelector('#df-f412ce54-c935-4ba6-b3cf-91ef5bff98a2 button.colab-df-convert');\n",
              "      buttonEl.style.display =\n",
              "        google.colab.kernel.accessAllowed ? 'block' : 'none';\n",
              "\n",
              "      async function convertToInteractive(key) {\n",
              "        const element = document.querySelector('#df-f412ce54-c935-4ba6-b3cf-91ef5bff98a2');\n",
              "        const dataTable =\n",
              "          await google.colab.kernel.invokeFunction('convertToInteractive',\n",
              "                                                    [key], {});\n",
              "        if (!dataTable) return;\n",
              "\n",
              "        const docLinkHtml = 'Like what you see? Visit the ' +\n",
              "          '<a target=\"_blank\" href=https://colab.research.google.com/notebooks/data_table.ipynb>data table notebook</a>'\n",
              "          + ' to learn more about interactive tables.';\n",
              "        element.innerHTML = '';\n",
              "        dataTable['output_type'] = 'display_data';\n",
              "        await google.colab.output.renderOutput(dataTable, element);\n",
              "        const docLink = document.createElement('div');\n",
              "        docLink.innerHTML = docLinkHtml;\n",
              "        element.appendChild(docLink);\n",
              "      }\n",
              "    </script>\n",
              "  </div>\n",
              "\n",
              "\n",
              "<div id=\"df-f7f0baaf-fa77-43ac-81cf-865ef05edc67\">\n",
              "  <button class=\"colab-df-quickchart\" onclick=\"quickchart('df-f7f0baaf-fa77-43ac-81cf-865ef05edc67')\"\n",
              "            title=\"Suggest charts.\"\n",
              "            style=\"display:none;\">\n",
              "\n",
              "<svg xmlns=\"http://www.w3.org/2000/svg\" height=\"24px\"viewBox=\"0 0 24 24\"\n",
              "     width=\"24px\">\n",
              "    <g>\n",
              "        <path d=\"M19 3H5c-1.1 0-2 .9-2 2v14c0 1.1.9 2 2 2h14c1.1 0 2-.9 2-2V5c0-1.1-.9-2-2-2zM9 17H7v-7h2v7zm4 0h-2V7h2v10zm4 0h-2v-4h2v4z\"/>\n",
              "    </g>\n",
              "</svg>\n",
              "  </button>\n",
              "\n",
              "<style>\n",
              "  .colab-df-quickchart {\n",
              "      --bg-color: #E8F0FE;\n",
              "      --fill-color: #1967D2;\n",
              "      --hover-bg-color: #E2EBFA;\n",
              "      --hover-fill-color: #174EA6;\n",
              "      --disabled-fill-color: #AAA;\n",
              "      --disabled-bg-color: #DDD;\n",
              "  }\n",
              "\n",
              "  [theme=dark] .colab-df-quickchart {\n",
              "      --bg-color: #3B4455;\n",
              "      --fill-color: #D2E3FC;\n",
              "      --hover-bg-color: #434B5C;\n",
              "      --hover-fill-color: #FFFFFF;\n",
              "      --disabled-bg-color: #3B4455;\n",
              "      --disabled-fill-color: #666;\n",
              "  }\n",
              "\n",
              "  .colab-df-quickchart {\n",
              "    background-color: var(--bg-color);\n",
              "    border: none;\n",
              "    border-radius: 50%;\n",
              "    cursor: pointer;\n",
              "    display: none;\n",
              "    fill: var(--fill-color);\n",
              "    height: 32px;\n",
              "    padding: 0;\n",
              "    width: 32px;\n",
              "  }\n",
              "\n",
              "  .colab-df-quickchart:hover {\n",
              "    background-color: var(--hover-bg-color);\n",
              "    box-shadow: 0 1px 2px rgba(60, 64, 67, 0.3), 0 1px 3px 1px rgba(60, 64, 67, 0.15);\n",
              "    fill: var(--button-hover-fill-color);\n",
              "  }\n",
              "\n",
              "  .colab-df-quickchart-complete:disabled,\n",
              "  .colab-df-quickchart-complete:disabled:hover {\n",
              "    background-color: var(--disabled-bg-color);\n",
              "    fill: var(--disabled-fill-color);\n",
              "    box-shadow: none;\n",
              "  }\n",
              "\n",
              "  .colab-df-spinner {\n",
              "    border: 2px solid var(--fill-color);\n",
              "    border-color: transparent;\n",
              "    border-bottom-color: var(--fill-color);\n",
              "    animation:\n",
              "      spin 1s steps(1) infinite;\n",
              "  }\n",
              "\n",
              "  @keyframes spin {\n",
              "    0% {\n",
              "      border-color: transparent;\n",
              "      border-bottom-color: var(--fill-color);\n",
              "      border-left-color: var(--fill-color);\n",
              "    }\n",
              "    20% {\n",
              "      border-color: transparent;\n",
              "      border-left-color: var(--fill-color);\n",
              "      border-top-color: var(--fill-color);\n",
              "    }\n",
              "    30% {\n",
              "      border-color: transparent;\n",
              "      border-left-color: var(--fill-color);\n",
              "      border-top-color: var(--fill-color);\n",
              "      border-right-color: var(--fill-color);\n",
              "    }\n",
              "    40% {\n",
              "      border-color: transparent;\n",
              "      border-right-color: var(--fill-color);\n",
              "      border-top-color: var(--fill-color);\n",
              "    }\n",
              "    60% {\n",
              "      border-color: transparent;\n",
              "      border-right-color: var(--fill-color);\n",
              "    }\n",
              "    80% {\n",
              "      border-color: transparent;\n",
              "      border-right-color: var(--fill-color);\n",
              "      border-bottom-color: var(--fill-color);\n",
              "    }\n",
              "    90% {\n",
              "      border-color: transparent;\n",
              "      border-bottom-color: var(--fill-color);\n",
              "    }\n",
              "  }\n",
              "</style>\n",
              "\n",
              "  <script>\n",
              "    async function quickchart(key) {\n",
              "      const quickchartButtonEl =\n",
              "        document.querySelector('#' + key + ' button');\n",
              "      quickchartButtonEl.disabled = true;  // To prevent multiple clicks.\n",
              "      quickchartButtonEl.classList.add('colab-df-spinner');\n",
              "      try {\n",
              "        const charts = await google.colab.kernel.invokeFunction(\n",
              "            'suggestCharts', [key], {});\n",
              "      } catch (error) {\n",
              "        console.error('Error during call to suggestCharts:', error);\n",
              "      }\n",
              "      quickchartButtonEl.classList.remove('colab-df-spinner');\n",
              "      quickchartButtonEl.classList.add('colab-df-quickchart-complete');\n",
              "    }\n",
              "    (() => {\n",
              "      let quickchartButtonEl =\n",
              "        document.querySelector('#df-f7f0baaf-fa77-43ac-81cf-865ef05edc67 button');\n",
              "      quickchartButtonEl.style.display =\n",
              "        google.colab.kernel.accessAllowed ? 'block' : 'none';\n",
              "    })();\n",
              "  </script>\n",
              "</div>\n",
              "    </div>\n",
              "  </div>\n"
            ]
          },
          "metadata": {},
          "execution_count": 8
        }
      ]
    },
    {
      "cell_type": "markdown",
      "source": [
        "VETTORIZZAZIONE"
      ],
      "metadata": {
        "id": "kUM5A5e5DxBx"
      }
    },
    {
      "cell_type": "markdown",
      "source": [
        "Convertiamo il testo nei documenti in valori numerici, applicando sostanzialmente l'approccio Bag of Words.\n",
        "\n",
        "I testi, ripuliti dalle stop words, saranno trasformati in un insieme di feature numeriche."
      ],
      "metadata": {
        "id": "8ZHqtfwC1kcQ"
      }
    },
    {
      "cell_type": "code",
      "source": [
        "vectorizer = CountVectorizer(stop_words=\"english\")"
      ],
      "metadata": {
        "id": "a5SnXgB3DzTl"
      },
      "execution_count": 9,
      "outputs": []
    },
    {
      "cell_type": "code",
      "source": [
        "X_train = vectorizer.fit_transform(df_train.text, df_train.category).toarray()\n",
        "y_train = df_train.category\n",
        "X_train.shape"
      ],
      "metadata": {
        "colab": {
          "base_uri": "https://localhost:8080/"
        },
        "id": "ufwyaaT5EHKc",
        "outputId": "e9a21d41-c869-4c10-b73d-afb0e1e8a054"
      },
      "execution_count": 10,
      "outputs": [
        {
          "output_type": "execute_result",
          "data": {
            "text/plain": [
              "(300, 14774)"
            ]
          },
          "metadata": {},
          "execution_count": 10
        }
      ]
    },
    {
      "cell_type": "code",
      "source": [
        "X_test = vectorizer.transform(df_test.text).toarray()\n",
        "y_test = df_test.category\n",
        "X_test.shape"
      ],
      "metadata": {
        "colab": {
          "base_uri": "https://localhost:8080/"
        },
        "id": "MNYPJTpfPL38",
        "outputId": "114c074d-a8cf-418e-a794-617b6b284422"
      },
      "execution_count": 11,
      "outputs": [
        {
          "output_type": "execute_result",
          "data": {
            "text/plain": [
              "(700, 14774)"
            ]
          },
          "metadata": {},
          "execution_count": 11
        }
      ]
    },
    {
      "cell_type": "markdown",
      "source": [
        "COSTRUZIONE DEL CLASSIFICATORE"
      ],
      "metadata": {
        "id": "nDtVYOZJEQYv"
      }
    },
    {
      "cell_type": "markdown",
      "source": [
        "A questo punto, scegliamo di costruire un classificatore Naive Bayes di tipo multinomiale, addestrato sui dati di training."
      ],
      "metadata": {
        "id": "ELPzfijx2GoN"
      }
    },
    {
      "cell_type": "code",
      "source": [
        "clf = MultinomialNB().fit(X_train, y_train)"
      ],
      "metadata": {
        "id": "jcpdjoHQESrZ"
      },
      "execution_count": 12,
      "outputs": []
    },
    {
      "cell_type": "markdown",
      "source": [
        "Proviamo a sottoporgli delle frasi inventate sul momento, noteremo che le previsioni del classificatore presentano una buona accuratezza."
      ],
      "metadata": {
        "id": "oBNUigAp2UBw"
      }
    },
    {
      "cell_type": "code",
      "source": [
        "print(Categories(clf.predict(vectorizer.transform([\"the risk of cancer increases after 60 years of age\"]))).name)"
      ],
      "metadata": {
        "colab": {
          "base_uri": "https://localhost:8080/"
        },
        "id": "v5wNNLS0E1_o",
        "outputId": "e09612de-ac00-45a5-dc45-ce9b4863962f"
      },
      "execution_count": 13,
      "outputs": [
        {
          "output_type": "stream",
          "name": "stdout",
          "text": [
            "medical\n"
          ]
        }
      ]
    },
    {
      "cell_type": "code",
      "source": [
        "print(Categories(clf.predict(vectorizer.transform([\"Policy of media was shaped by Italy pm Silvio Berlusconi, great friend of Tony Blair.\"]))).name)"
      ],
      "metadata": {
        "colab": {
          "base_uri": "https://localhost:8080/"
        },
        "id": "DhjoR16-HXkw",
        "outputId": "6fb241a3-eca1-44b6-bffd-f674556b7584"
      },
      "execution_count": 14,
      "outputs": [
        {
          "output_type": "stream",
          "name": "stdout",
          "text": [
            "politics\n"
          ]
        }
      ]
    },
    {
      "cell_type": "markdown",
      "source": [
        "Sottoponiamo ora al classificatore un documento scelto a caso dall'insieme di test, e verifichiamo che sia assegnato alla categoria corretta."
      ],
      "metadata": {
        "id": "Pm3G-vuc2hLI"
      }
    },
    {
      "cell_type": "code",
      "source": [
        "filename = '/content/DATASET/corpus/space/space_36.txt'\n",
        "file_text = \"\"\n",
        "with open(filename, 'r') as reader:\n",
        "    file_text = reader.read()\n",
        "print(file_text)"
      ],
      "metadata": {
        "id": "9Aj447_iHof0",
        "colab": {
          "base_uri": "https://localhost:8080/"
        },
        "outputId": "cc298f75-ea13-4db3-88ca-639c7d5582d3"
      },
      "execution_count": 15,
      "outputs": [
        {
          "output_type": "stream",
          "name": "stdout",
          "text": [
            "This might a real wierd idea or maybe not..\n",
            "I have seen where people have blown up ballons then sprayed material into them\n",
            "that then drys and makes hard walls...\n",
            "Why not do the same thing for a space station..\n",
            "Fly up the docking rings and baloon materials and such, blow up the baloons,\n",
            "spin then around (I know a problem in micro gravity) let them dry/cure/harden?\n",
            "and cut a hole for the docking/attaching ring and bingo a space station..\n",
            "Of course the ballons would have to be foil covered or someother radiation\n",
            "protective covering/heat shield(?) and the material used to make the wals would\n",
            "have to meet the out gasing and other specs or atleast the paint/covering of\n",
            "the inner wall would have to be human safe.. Maybe a special congrete or maybe\n",
            "the same material as makes caplets but with some changes (saw where someone\n",
            "instea dof water put beer in the caplet mixture, got a mix that was just as\n",
            "strong as congret but easier to carry around and such..)\n",
            "Sorry for any spelling errors, I missed school today.. (grin)..\n",
            "Why musta  space station be so difficult?? why must we have girders? why be\n",
            "confined to earth based ideas, lets think new ideas, after all space is not\n",
            "earth, why be limited by earth based ideas??\n",
            "Michael Adams, nsmca@acad3.alaska.edu -- I'm not high, just jacked\n",
            "going crazy in Nome Alaska, break up is here..\n",
            "\n"
          ]
        }
      ]
    },
    {
      "cell_type": "code",
      "source": [
        "print(Categories(clf.predict(vectorizer.transform([file_text]))).name)"
      ],
      "metadata": {
        "colab": {
          "base_uri": "https://localhost:8080/"
        },
        "id": "6oUi62fMI-u0",
        "outputId": "d011ab70-0d81-4596-f2df-998f0bffb432"
      },
      "execution_count": 16,
      "outputs": [
        {
          "output_type": "stream",
          "name": "stdout",
          "text": [
            "space\n"
          ]
        }
      ]
    },
    {
      "cell_type": "markdown",
      "source": [
        "Passiamo ora alla classificazione dell'intero insieme di test.\n",
        "Il classificatore mostra una precisione del 94%."
      ],
      "metadata": {
        "id": "C2muyExM3CJJ"
      }
    },
    {
      "cell_type": "code",
      "source": [
        "y_pred = clf.predict(X_test)\n",
        "accuracy = accuracy_score(y_pred, y_test)\n",
        "print(accuracy)"
      ],
      "metadata": {
        "colab": {
          "base_uri": "https://localhost:8080/"
        },
        "id": "eiwl-rJ0Jj8Q",
        "outputId": "5b788ed1-edef-4609-9ba4-9c732ccf7c18"
      },
      "execution_count": 17,
      "outputs": [
        {
          "output_type": "stream",
          "name": "stdout",
          "text": [
            "0.9385714285714286\n"
          ]
        }
      ]
    },
    {
      "cell_type": "markdown",
      "source": [
        "Visualizziamo il risultato con una confusion matrix."
      ],
      "metadata": {
        "id": "QK12yESu3NUg"
      }
    },
    {
      "cell_type": "code",
      "source": [
        "cm = confusion_matrix(y_test, y_pred)\n",
        "disp = ConfusionMatrixDisplay(confusion_matrix=cm, display_labels=None)\n",
        "disp.plot();"
      ],
      "metadata": {
        "colab": {
          "base_uri": "https://localhost:8080/",
          "height": 455
        },
        "id": "zYG-E67HS1Ao",
        "outputId": "58f405ea-b667-4465-df91-456b80093e81"
      },
      "execution_count": 18,
      "outputs": [
        {
          "output_type": "display_data",
          "data": {
            "text/plain": [
              "<Figure size 640x480 with 2 Axes>"
            ],
            "image/png": "[encoded data removed]"
          },
          "metadata": {}
        }
      ]
    },
    {
      "cell_type": "markdown",
      "source": [
        "657 documenti su 700 correttamente classificati"
      ],
      "metadata": {
        "id": "s7WVriHsU11c"
      }
    },
    {
      "cell_type": "markdown",
      "source": [
        "Il risultato ottenuto, come visto, ha fatto uso dell'approccio Bag of Words. Proviamo ora ad adoperare invece la Tf-IDF come possibile miglioramento.\n",
        "\n",
        "Il processo è analogo al precedente, con la differenza di utilizzare TfidfTransformer al posto di CountVectorizer."
      ],
      "metadata": {
        "id": "mRVGSP4gq1CX"
      }
    },
    {
      "cell_type": "code",
      "source": [
        "vectorizer = CountVectorizer(stop_words=\"english\")\n",
        "tfidf_transformer = TfidfTransformer()\n",
        "\n",
        "X_tf_train = vectorizer.fit_transform(df_train.text, df_train.category).toarray()\n",
        "y_train = df_train.category\n",
        "X_idf_train = tfidf_transformer.fit_transform(X_tf_train)\n",
        "X_idf_train.shape"
      ],
      "metadata": {
        "colab": {
          "base_uri": "https://localhost:8080/"
        },
        "id": "UvQj5G93q21d",
        "outputId": "a77a08e7-ad9a-4736-d784-5bb5d31fbbec"
      },
      "execution_count": 19,
      "outputs": [
        {
          "output_type": "execute_result",
          "data": {
            "text/plain": [
              "(300, 14774)"
            ]
          },
          "metadata": {},
          "execution_count": 19
        }
      ]
    },
    {
      "cell_type": "code",
      "source": [
        "clf_idf = MultinomialNB().fit(X_idf_train, y_train)"
      ],
      "metadata": {
        "id": "zFKHmQtHuVhb"
      },
      "execution_count": 20,
      "outputs": []
    },
    {
      "cell_type": "markdown",
      "source": [
        "Delle prove superficiali ottengono risposte accettabili."
      ],
      "metadata": {
        "id": "B-Ra6C3j3-sR"
      }
    },
    {
      "cell_type": "code",
      "source": [
        "print(Categories(clf.predict(vectorizer.transform([\"Mediterranean diet is among the healthiest in the world, thanks to small comsumption of meet and a lot of vegetables.\"]))).name)"
      ],
      "metadata": {
        "colab": {
          "base_uri": "https://localhost:8080/"
        },
        "id": "YNZiK_mJusRX",
        "outputId": "2f67e4ae-1645-4d2f-d687-56b148f847a8"
      },
      "execution_count": 21,
      "outputs": [
        {
          "output_type": "stream",
          "name": "stdout",
          "text": [
            "medical\n"
          ]
        }
      ]
    },
    {
      "cell_type": "code",
      "source": [
        "print(Categories(clf.predict(vectorizer.transform([\"Photoshop is the best program to manipulate pictures, Revit is best for renderings.\"]))).name)"
      ],
      "metadata": {
        "colab": {
          "base_uri": "https://localhost:8080/"
        },
        "id": "W99nmIfAvFRu",
        "outputId": "25554a8b-cab9-4971-cab1-55d55e56b56f"
      },
      "execution_count": 22,
      "outputs": [
        {
          "output_type": "stream",
          "name": "stdout",
          "text": [
            "graphics\n"
          ]
        }
      ]
    },
    {
      "cell_type": "code",
      "source": [
        "X_tf_test = vectorizer.transform(df_test.text).toarray()\n",
        "y_test = df_test.category\n",
        "X_idf_test = tfidf_transformer.transform(X_tf_test)\n",
        "X_idf_test.shape"
      ],
      "metadata": {
        "colab": {
          "base_uri": "https://localhost:8080/"
        },
        "id": "zrcxnXGnvZHT",
        "outputId": "debe0e50-8583-42b7-defc-015bf2a0a94f"
      },
      "execution_count": 23,
      "outputs": [
        {
          "output_type": "execute_result",
          "data": {
            "text/plain": [
              "(700, 14774)"
            ]
          },
          "metadata": {},
          "execution_count": 23
        }
      ]
    },
    {
      "cell_type": "markdown",
      "source": [
        "Verifichiamo che effettivamente la precisione del cassificatore sia aumentata di poco più dell'1%. Un miglioramento lieve, ma comunque rilevabile, a fronte di una precisione già superiore al 90%."
      ],
      "metadata": {
        "id": "x-0OLJGO4Evw"
      }
    },
    {
      "cell_type": "code",
      "source": [
        "y_idf_pred = clf.predict(X_idf_test)\n",
        "accuracy = accuracy_score(y_idf_pred, y_test)\n",
        "accuracy"
      ],
      "metadata": {
        "colab": {
          "base_uri": "https://localhost:8080/"
        },
        "id": "4onACUpWvypp",
        "outputId": "69ecf753-f8b6-477a-a383-a78264a420ce"
      },
      "execution_count": 24,
      "outputs": [
        {
          "output_type": "execute_result",
          "data": {
            "text/plain": [
              "0.9528571428571428"
            ]
          },
          "metadata": {},
          "execution_count": 24
        }
      ]
    },
    {
      "cell_type": "code",
      "source": [
        "cm = confusion_matrix(y_test, y_idf_pred)\n",
        "disp = ConfusionMatrixDisplay(confusion_matrix=cm, display_labels=None)\n",
        "disp.plot();"
      ],
      "metadata": {
        "colab": {
          "base_uri": "https://localhost:8080/",
          "height": 455
        },
        "id": "d1wMoNmhyaO6",
        "outputId": "4e3cbb51-4d7c-4504-9b10-77bdc63cf7f1"
      },
      "execution_count": 25,
      "outputs": [
        {
          "output_type": "display_data",
          "data": {
            "text/plain": [
              "<Figure size 640x480 with 2 Axes>"
            ],
            "image/png": "[encoded data removed]"
          },
          "metadata": {}
        }
      ]
    }
  ]
}